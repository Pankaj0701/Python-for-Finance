{
 "cells": [
  {
   "cell_type": "code",
   "execution_count": 1,
   "id": "a533500e-6260-461b-8b5a-ea9099eda3ec",
   "metadata": {},
   "outputs": [],
   "source": [
    "import numpy as np\n",
    "import pandas as pd\n",
    "import yfinance as yf\n",
    "import pandas_datareader\n",
    "import warnings\n",
    "warnings.filterwarnings('ignore')"
   ]
  },
  {
   "cell_type": "code",
   "execution_count": 5,
   "id": "6a71125f-fd06-41e9-88b7-1fb616839a45",
   "metadata": {},
   "outputs": [
    {
     "name": "stderr",
     "output_type": "stream",
     "text": [
      "[*********************100%***********************]  1 of 1 completed\n",
      "[*********************100%***********************]  1 of 1 completed\n"
     ]
    }
   ],
   "source": [
    "tickers = ['PG', '^GSPC']\n",
    "data = pd.DataFrame()\n",
    "for t in tickers:\n",
    "    data[t] = yf.download(t, start = '1995-1-1')['Close']"
   ]
  },
  {
   "cell_type": "code",
   "execution_count": 6,
   "id": "96dc88a5-046f-4163-a84f-bdb44f1d13e1",
   "metadata": {},
   "outputs": [],
   "source": [
    "sec_returns = np.log(data / data.shift(1))"
   ]
  },
  {
   "cell_type": "code",
   "execution_count": 8,
   "id": "b65c85ae-6b1b-4496-a91c-0723db3111c8",
   "metadata": {},
   "outputs": [
    {
     "data": {
      "text/html": [
       "<div>\n",
       "<style scoped>\n",
       "    .dataframe tbody tr th:only-of-type {\n",
       "        vertical-align: middle;\n",
       "    }\n",
       "\n",
       "    .dataframe tbody tr th {\n",
       "        vertical-align: top;\n",
       "    }\n",
       "\n",
       "    .dataframe thead th {\n",
       "        text-align: right;\n",
       "    }\n",
       "</style>\n",
       "<table border=\"1\" class=\"dataframe\">\n",
       "  <thead>\n",
       "    <tr style=\"text-align: right;\">\n",
       "      <th></th>\n",
       "      <th>PG</th>\n",
       "      <th>^GSPC</th>\n",
       "    </tr>\n",
       "  </thead>\n",
       "  <tbody>\n",
       "    <tr>\n",
       "      <th>PG</th>\n",
       "      <td>0.048457</td>\n",
       "      <td>0.019643</td>\n",
       "    </tr>\n",
       "    <tr>\n",
       "      <th>^GSPC</th>\n",
       "      <td>0.019643</td>\n",
       "      <td>0.035597</td>\n",
       "    </tr>\n",
       "  </tbody>\n",
       "</table>\n",
       "</div>"
      ],
      "text/plain": [
       "             PG     ^GSPC\n",
       "PG     0.048457  0.019643\n",
       "^GSPC  0.019643  0.035597"
      ]
     },
     "execution_count": 8,
     "metadata": {},
     "output_type": "execute_result"
    }
   ],
   "source": [
    "cov = sec_returns.cov() * 250\n",
    "cov"
   ]
  },
  {
   "cell_type": "code",
   "execution_count": 10,
   "id": "d61b0977-2cda-44f5-ad3f-00917230cd1e",
   "metadata": {},
   "outputs": [
    {
     "data": {
      "text/plain": [
       "0.0196428948809956"
      ]
     },
     "execution_count": 10,
     "metadata": {},
     "output_type": "execute_result"
    }
   ],
   "source": [
    "cov_with_market = (cov.iloc[0,1]).item()\n",
    "cov_with_market"
   ]
  },
  {
   "cell_type": "code",
   "execution_count": 12,
   "id": "d3472b3a-a0a0-41db-ba63-7d0e4bfb43a0",
   "metadata": {},
   "outputs": [
    {
     "data": {
      "text/plain": [
       "0.03559721159110503"
      ]
     },
     "execution_count": 12,
     "metadata": {},
     "output_type": "execute_result"
    }
   ],
   "source": [
    "market_var = sec_returns['^GSPC'].var() * 250\n",
    "market_var"
   ]
  },
  {
   "cell_type": "code",
   "execution_count": 13,
   "id": "07d95523-c776-4eaf-b3d0-927d2aae48b2",
   "metadata": {},
   "outputs": [],
   "source": [
    "#CALCULATING BETA"
   ]
  },
  {
   "cell_type": "code",
   "execution_count": 14,
   "id": "383bbe94-d71f-4a60-93ef-2b0e1313c425",
   "metadata": {},
   "outputs": [
    {
     "data": {
      "text/plain": [
       "0.5518099312560744"
      ]
     },
     "execution_count": 14,
     "metadata": {},
     "output_type": "execute_result"
    }
   ],
   "source": [
    "PG_beta = cov_with_market / market_var\n",
    "PG_beta"
   ]
  },
  {
   "cell_type": "code",
   "execution_count": 15,
   "id": "1f62bc7c-da2d-426a-87d8-88f9f9d4a004",
   "metadata": {},
   "outputs": [],
   "source": [
    "#CALCULATING THE EXPECTED RETURN OF P&G (CAPM)"
   ]
  },
  {
   "cell_type": "code",
   "execution_count": 16,
   "id": "966e14ac-4770-42d6-9772-ed8aab094a00",
   "metadata": {},
   "outputs": [
    {
     "data": {
      "text/plain": [
       "0.05259049656280372"
      ]
     },
     "execution_count": 16,
     "metadata": {},
     "output_type": "execute_result"
    }
   ],
   "source": [
    "PG_er = 0.025 + PG_beta * 0.05\n",
    "PG_er"
   ]
  },
  {
   "cell_type": "code",
   "execution_count": 17,
   "id": "a0bbf128-7c08-4994-8c97-06c90f336516",
   "metadata": {},
   "outputs": [],
   "source": [
    "#SHARPE RATIO"
   ]
  },
  {
   "cell_type": "code",
   "execution_count": 18,
   "id": "bbf10e30-f2f9-40a0-9043-703d8861836c",
   "metadata": {},
   "outputs": [
    {
     "data": {
      "text/plain": [
       "0.12533761060740217"
      ]
     },
     "execution_count": 18,
     "metadata": {},
     "output_type": "execute_result"
    }
   ],
   "source": [
    "Sharpe = (PG_er - 0.025) / (sec_returns['PG'].std() * 250 ** 0.5)\n",
    "Sharpe"
   ]
  },
  {
   "cell_type": "code",
   "execution_count": null,
   "id": "88385e28-114b-4285-b39c-d1c300bd7e03",
   "metadata": {},
   "outputs": [],
   "source": []
  }
 ],
 "metadata": {
  "kernelspec": {
   "display_name": "Python [conda env:base] *",
   "language": "python",
   "name": "conda-base-py"
  },
  "language_info": {
   "codemirror_mode": {
    "name": "ipython",
    "version": 3
   },
   "file_extension": ".py",
   "mimetype": "text/x-python",
   "name": "python",
   "nbconvert_exporter": "python",
   "pygments_lexer": "ipython3",
   "version": "3.13.5"
  }
 },
 "nbformat": 4,
 "nbformat_minor": 5
}
