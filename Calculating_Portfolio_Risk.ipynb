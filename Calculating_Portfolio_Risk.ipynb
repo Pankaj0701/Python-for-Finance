{
 "cells": [
  {
   "cell_type": "code",
   "execution_count": 33,
   "id": "8f4838ff-7912-439d-86d3-d56d13a4024c",
   "metadata": {},
   "outputs": [],
   "source": [
    "import numpy as np\n",
    "import pandas as pd\n",
    "import yfinance as yf\n",
    "import warnings\n",
    "warnings.filterwarnings('ignore')"
   ]
  },
  {
   "cell_type": "code",
   "execution_count": 34,
   "id": "87e04fe7-73e7-4b9f-8d26-091de20a8e8f",
   "metadata": {},
   "outputs": [
    {
     "name": "stderr",
     "output_type": "stream",
     "text": [
      "[*********************100%***********************]  1 of 1 completed\n",
      "[*********************100%***********************]  1 of 1 completed\n"
     ]
    }
   ],
   "source": [
    "tickers =['PG','BEI.DE']\n",
    "sec_data = pd.DataFrame()\n",
    "for t in tickers:\n",
    "    sec_data[t] = yf.download(t, start = '1995-1-1')['Close']"
   ]
  },
  {
   "cell_type": "code",
   "execution_count": 18,
   "id": "8a817b34-db65-4085-b7cd-b40f62e8cd9d",
   "metadata": {},
   "outputs": [],
   "source": [
    "weights = np.array([0.5,0.5])"
   ]
  },
  {
   "cell_type": "code",
   "execution_count": null,
   "id": "d4477da0-aff1-48b6-aa93-7242e47207c5",
   "metadata": {},
   "outputs": [],
   "source": [
    "#PORTFOLIO VARIANCE"
   ]
  },
  {
   "cell_type": "code",
   "execution_count": 20,
   "id": "5788dfdb-a0f3-43eb-a776-f79143b74e2e",
   "metadata": {},
   "outputs": [
    {
     "data": {
      "text/plain": [
       "0.034627308477351425"
      ]
     },
     "execution_count": 20,
     "metadata": {},
     "output_type": "execute_result"
    }
   ],
   "source": [
    "pfolio_var = np.dot(weights.T,np.dot(sec_returns.cov() * 250, weights)).item()\n",
    "pfolio_var"
   ]
  },
  {
   "cell_type": "code",
   "execution_count": 21,
   "id": "434ca9f8-604c-4b45-8ff1-734f85b38a31",
   "metadata": {},
   "outputs": [],
   "source": [
    "#PORTFOLIO VOLATILITY"
   ]
  },
  {
   "cell_type": "code",
   "execution_count": 25,
   "id": "65a76042-00a8-41dd-bc48-0c632947ae2f",
   "metadata": {},
   "outputs": [
    {
     "data": {
      "text/plain": [
       "0.18608414354090308"
      ]
     },
     "execution_count": 25,
     "metadata": {},
     "output_type": "execute_result"
    }
   ],
   "source": [
    "pfolio_vol = ((np.dot(weights.T,np.dot(sec_returns.cov() * 250, weights))) ** 0.5).item()\n",
    "pfolio_vol"
   ]
  },
  {
   "cell_type": "code",
   "execution_count": 32,
   "id": "37f2e3b4-661e-49d7-b0a3-a45d13dff041",
   "metadata": {},
   "outputs": [
    {
     "name": "stdout",
     "output_type": "stream",
     "text": [
      "18.608%\n"
     ]
    }
   ],
   "source": [
    "print(str(round(pfolio_vol *100,3)) + '%')"
   ]
  },
  {
   "cell_type": "code",
   "execution_count": null,
   "id": "52d7b759-1b65-4374-9fce-556623c5d51b",
   "metadata": {},
   "outputs": [],
   "source": []
  }
 ],
 "metadata": {
  "kernelspec": {
   "display_name": "Python [conda env:base] *",
   "language": "python",
   "name": "conda-base-py"
  },
  "language_info": {
   "codemirror_mode": {
    "name": "ipython",
    "version": 3
   },
   "file_extension": ".py",
   "mimetype": "text/x-python",
   "name": "python",
   "nbconvert_exporter": "python",
   "pygments_lexer": "ipython3",
   "version": "3.13.5"
  }
 },
 "nbformat": 4,
 "nbformat_minor": 5
}
