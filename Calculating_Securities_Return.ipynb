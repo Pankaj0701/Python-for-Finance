{
 "cells": [
  {
   "cell_type": "code",
   "execution_count": 4,
   "id": "83e43b29-753d-45a0-84ec-5a214854e2b7",
   "metadata": {},
   "outputs": [],
   "source": [
    "import numpy as np\n",
    "import pandas as pd\n",
    "import yfinance as yf\n",
    "import matplotlib.pyplot as plt\n",
    "import warnings\n",
    "warnings.filterwarnings('ignore')"
   ]
  },
  {
   "cell_type": "code",
   "execution_count": 5,
   "id": "6fca34ad-3400-4f98-8809-5b2e78fb6f67",
   "metadata": {},
   "outputs": [
    {
     "name": "stderr",
     "output_type": "stream",
     "text": [
      "[*********************100%***********************]  1 of 1 completed\n",
      "[*********************100%***********************]  1 of 1 completed\n"
     ]
    }
   ],
   "source": [
    "tickers =['PG','BEI.DE']\n",
    "sec_data = pd.DataFrame()\n",
    "for t in tickers:\n",
    "    sec_data[t] = yf.download(t, start = '1995-1-1')['Close']"
   ]
  },
  {
   "cell_type": "code",
   "execution_count": 6,
   "id": "81929bb2-5de6-4aa8-9d89-1a9ec3a7b831",
   "metadata": {},
   "outputs": [
    {
     "data": {
      "text/html": [
       "<div>\n",
       "<style scoped>\n",
       "    .dataframe tbody tr th:only-of-type {\n",
       "        vertical-align: middle;\n",
       "    }\n",
       "\n",
       "    .dataframe tbody tr th {\n",
       "        vertical-align: top;\n",
       "    }\n",
       "\n",
       "    .dataframe thead th {\n",
       "        text-align: right;\n",
       "    }\n",
       "</style>\n",
       "<table border=\"1\" class=\"dataframe\">\n",
       "  <thead>\n",
       "    <tr style=\"text-align: right;\">\n",
       "      <th></th>\n",
       "      <th>PG</th>\n",
       "      <th>BEI.DE</th>\n",
       "    </tr>\n",
       "    <tr>\n",
       "      <th>Date</th>\n",
       "      <th></th>\n",
       "      <th></th>\n",
       "    </tr>\n",
       "  </thead>\n",
       "  <tbody>\n",
       "    <tr>\n",
       "      <th>2025-08-20</th>\n",
       "      <td>159.509995</td>\n",
       "      <td>102.949997</td>\n",
       "    </tr>\n",
       "    <tr>\n",
       "      <th>2025-08-21</th>\n",
       "      <td>158.729996</td>\n",
       "      <td>100.750000</td>\n",
       "    </tr>\n",
       "    <tr>\n",
       "      <th>2025-08-22</th>\n",
       "      <td>158.669998</td>\n",
       "      <td>99.559998</td>\n",
       "    </tr>\n",
       "    <tr>\n",
       "      <th>2025-08-25</th>\n",
       "      <td>156.149994</td>\n",
       "      <td>99.180000</td>\n",
       "    </tr>\n",
       "    <tr>\n",
       "      <th>2025-08-26</th>\n",
       "      <td>155.774994</td>\n",
       "      <td>98.680000</td>\n",
       "    </tr>\n",
       "  </tbody>\n",
       "</table>\n",
       "</div>"
      ],
      "text/plain": [
       "                    PG      BEI.DE\n",
       "Date                              \n",
       "2025-08-20  159.509995  102.949997\n",
       "2025-08-21  158.729996  100.750000\n",
       "2025-08-22  158.669998   99.559998\n",
       "2025-08-25  156.149994   99.180000\n",
       "2025-08-26  155.774994   98.680000"
      ]
     },
     "execution_count": 6,
     "metadata": {},
     "output_type": "execute_result"
    }
   ],
   "source": [
    "sec_data.tail()"
   ]
  },
  {
   "cell_type": "code",
   "execution_count": 7,
   "id": "455f6459-d659-4e19-9f50-d8ebb4bea6eb",
   "metadata": {},
   "outputs": [
    {
     "data": {
      "text/html": [
       "<div>\n",
       "<style scoped>\n",
       "    .dataframe tbody tr th:only-of-type {\n",
       "        vertical-align: middle;\n",
       "    }\n",
       "\n",
       "    .dataframe tbody tr th {\n",
       "        vertical-align: top;\n",
       "    }\n",
       "\n",
       "    .dataframe thead th {\n",
       "        text-align: right;\n",
       "    }\n",
       "</style>\n",
       "<table border=\"1\" class=\"dataframe\">\n",
       "  <thead>\n",
       "    <tr style=\"text-align: right;\">\n",
       "      <th></th>\n",
       "      <th>PG</th>\n",
       "      <th>BEI.DE</th>\n",
       "    </tr>\n",
       "    <tr>\n",
       "      <th>Date</th>\n",
       "      <th></th>\n",
       "      <th></th>\n",
       "    </tr>\n",
       "  </thead>\n",
       "  <tbody>\n",
       "    <tr>\n",
       "      <th>1995-01-03</th>\n",
       "      <td>NaN</td>\n",
       "      <td>NaN</td>\n",
       "    </tr>\n",
       "    <tr>\n",
       "      <th>1995-01-04</th>\n",
       "      <td>-0.008048</td>\n",
       "      <td>NaN</td>\n",
       "    </tr>\n",
       "    <tr>\n",
       "      <th>1995-01-05</th>\n",
       "      <td>-0.014242</td>\n",
       "      <td>NaN</td>\n",
       "    </tr>\n",
       "    <tr>\n",
       "      <th>1995-01-06</th>\n",
       "      <td>0.002047</td>\n",
       "      <td>NaN</td>\n",
       "    </tr>\n",
       "    <tr>\n",
       "      <th>1995-01-09</th>\n",
       "      <td>-0.004099</td>\n",
       "      <td>NaN</td>\n",
       "    </tr>\n",
       "    <tr>\n",
       "      <th>...</th>\n",
       "      <td>...</td>\n",
       "      <td>...</td>\n",
       "    </tr>\n",
       "    <tr>\n",
       "      <th>2025-08-20</th>\n",
       "      <td>0.006983</td>\n",
       "      <td>0.000486</td>\n",
       "    </tr>\n",
       "    <tr>\n",
       "      <th>2025-08-21</th>\n",
       "      <td>-0.004902</td>\n",
       "      <td>-0.021601</td>\n",
       "    </tr>\n",
       "    <tr>\n",
       "      <th>2025-08-22</th>\n",
       "      <td>-0.000378</td>\n",
       "      <td>-0.011882</td>\n",
       "    </tr>\n",
       "    <tr>\n",
       "      <th>2025-08-25</th>\n",
       "      <td>-0.016010</td>\n",
       "      <td>-0.003824</td>\n",
       "    </tr>\n",
       "    <tr>\n",
       "      <th>2025-08-26</th>\n",
       "      <td>-0.002404</td>\n",
       "      <td>-0.005054</td>\n",
       "    </tr>\n",
       "  </tbody>\n",
       "</table>\n",
       "<p>7714 rows × 2 columns</p>\n",
       "</div>"
      ],
      "text/plain": [
       "                  PG    BEI.DE\n",
       "Date                          \n",
       "1995-01-03       NaN       NaN\n",
       "1995-01-04 -0.008048       NaN\n",
       "1995-01-05 -0.014242       NaN\n",
       "1995-01-06  0.002047       NaN\n",
       "1995-01-09 -0.004099       NaN\n",
       "...              ...       ...\n",
       "2025-08-20  0.006983  0.000486\n",
       "2025-08-21 -0.004902 -0.021601\n",
       "2025-08-22 -0.000378 -0.011882\n",
       "2025-08-25 -0.016010 -0.003824\n",
       "2025-08-26 -0.002404 -0.005054\n",
       "\n",
       "[7714 rows x 2 columns]"
      ]
     },
     "execution_count": 7,
     "metadata": {},
     "output_type": "execute_result"
    }
   ],
   "source": [
    "sec_returns = np.log(sec_data / sec_data.shift(1))\n",
    "sec_returns"
   ]
  },
  {
   "cell_type": "code",
   "execution_count": 8,
   "id": "a24c0980-95fc-486b-bc66-df8c0c5cfdd2",
   "metadata": {},
   "outputs": [
    {
     "data": {
      "text/plain": [
       "0.00039679681424166643"
      ]
     },
     "execution_count": 8,
     "metadata": {},
     "output_type": "execute_result"
    }
   ],
   "source": [
    "sec_returns['PG'].mean().item()"
   ]
  },
  {
   "cell_type": "code",
   "execution_count": 9,
   "id": "c4abd1e9-1f28-46e1-ae1f-450b5d63966e",
   "metadata": {},
   "outputs": [
    {
     "data": {
      "text/plain": [
       "0.0991992035604166"
      ]
     },
     "execution_count": 9,
     "metadata": {},
     "output_type": "execute_result"
    }
   ],
   "source": [
    "(sec_returns['PG'].mean()*250).item()"
   ]
  },
  {
   "cell_type": "code",
   "execution_count": 10,
   "id": "c52c38af-3dc8-4cde-b624-7842dfc1023e",
   "metadata": {},
   "outputs": [
    {
     "data": {
      "text/plain": [
       "0.01392297039795198"
      ]
     },
     "execution_count": 10,
     "metadata": {},
     "output_type": "execute_result"
    }
   ],
   "source": [
    "sec_returns['PG'].std()"
   ]
  },
  {
   "cell_type": "code",
   "execution_count": 11,
   "id": "e0953f83-629d-4586-bc47-4fb7fde17a80",
   "metadata": {},
   "outputs": [
    {
     "data": {
      "text/plain": [
       "0.22014149126314597"
      ]
     },
     "execution_count": 11,
     "metadata": {},
     "output_type": "execute_result"
    }
   ],
   "source": [
    "sec_returns['PG'].std() * 250 ** 0.5"
   ]
  },
  {
   "cell_type": "code",
   "execution_count": 12,
   "id": "8c3efc88-16bd-40a2-a34b-7265a09477b9",
   "metadata": {},
   "outputs": [],
   "source": [
    "#BEIERSDORF"
   ]
  },
  {
   "cell_type": "code",
   "execution_count": 13,
   "id": "53d8aa42-f3cb-4ae2-87a4-199fae8d552d",
   "metadata": {},
   "outputs": [
    {
     "data": {
      "text/plain": [
       "0.0002662686297517333"
      ]
     },
     "execution_count": 13,
     "metadata": {},
     "output_type": "execute_result"
    }
   ],
   "source": [
    "sec_returns['BEI.DE'].mean().item()"
   ]
  },
  {
   "cell_type": "code",
   "execution_count": 14,
   "id": "71110dd7-dd2d-44a3-b3d1-4293cc27c27f",
   "metadata": {},
   "outputs": [
    {
     "data": {
      "text/plain": [
       "0.06656715743793333"
      ]
     },
     "execution_count": 14,
     "metadata": {},
     "output_type": "execute_result"
    }
   ],
   "source": [
    "(sec_returns['BEI.DE'].mean()*250).item()"
   ]
  },
  {
   "cell_type": "code",
   "execution_count": 15,
   "id": "4e51f511-8ac9-46c0-8a4e-4c31e831975d",
   "metadata": {},
   "outputs": [
    {
     "data": {
      "text/plain": [
       "0.017409940814846894"
      ]
     },
     "execution_count": 15,
     "metadata": {},
     "output_type": "execute_result"
    }
   ],
   "source": [
    "sec_returns['BEI.DE'].std()"
   ]
  },
  {
   "cell_type": "code",
   "execution_count": 16,
   "id": "9814317e-22ee-4155-a4e8-ee0f2b2f7113",
   "metadata": {},
   "outputs": [
    {
     "data": {
      "text/plain": [
       "0.27527533451822"
      ]
     },
     "execution_count": 16,
     "metadata": {},
     "output_type": "execute_result"
    }
   ],
   "source": [
    "sec_returns['BEI.DE'].std() * 250 ** 0.5"
   ]
  },
  {
   "cell_type": "code",
   "execution_count": null,
   "id": "caabcf32-79e0-4fec-9db4-96e458b893e5",
   "metadata": {},
   "outputs": [],
   "source": []
  },
  {
   "cell_type": "code",
   "execution_count": 17,
   "id": "5d25bb25-797e-4a16-8409-1fbffd2f44f2",
   "metadata": {},
   "outputs": [
    {
     "name": "stdout",
     "output_type": "stream",
     "text": [
      "0.0991992035604166\n",
      "0.06656715743793333\n"
     ]
    }
   ],
   "source": [
    "print(sec_returns['PG'].mean() * 250)\n",
    "print(sec_returns['BEI.DE'].mean() * 250)"
   ]
  },
  {
   "cell_type": "code",
   "execution_count": 18,
   "id": "cd0845d0-5ea8-449f-a2da-e8b3d9519d52",
   "metadata": {},
   "outputs": [
    {
     "data": {
      "text/plain": [
       "PG        0.099199\n",
       "BEI.DE    0.066567\n",
       "dtype: float64"
      ]
     },
     "execution_count": 18,
     "metadata": {},
     "output_type": "execute_result"
    }
   ],
   "source": [
    "sec_returns[['PG','BEI.DE']].mean()*250"
   ]
  },
  {
   "cell_type": "code",
   "execution_count": 19,
   "id": "404b568a-f460-4ca7-ba29-e379be80f904",
   "metadata": {},
   "outputs": [
    {
     "data": {
      "text/plain": [
       "PG        0.220141\n",
       "BEI.DE    0.275275\n",
       "dtype: float64"
      ]
     },
     "execution_count": 19,
     "metadata": {},
     "output_type": "execute_result"
    }
   ],
   "source": [
    "sec_returns[['PG','BEI.DE']].std() * 250 ** 0.5"
   ]
  },
  {
   "cell_type": "code",
   "execution_count": null,
   "id": "e1e4cd4a-8176-4259-9d1d-66ac5bd01de3",
   "metadata": {},
   "outputs": [],
   "source": []
  }
 ],
 "metadata": {
  "kernelspec": {
   "display_name": "Python [conda env:base] *",
   "language": "python",
   "name": "conda-base-py"
  },
  "language_info": {
   "codemirror_mode": {
    "name": "ipython",
    "version": 3
   },
   "file_extension": ".py",
   "mimetype": "text/x-python",
   "name": "python",
   "nbconvert_exporter": "python",
   "pygments_lexer": "ipython3",
   "version": "3.13.5"
  }
 },
 "nbformat": 4,
 "nbformat_minor": 5
}
