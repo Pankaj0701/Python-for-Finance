{
 "cells": [
  {
   "cell_type": "code",
   "execution_count": 17,
   "id": "d444388b-2262-4ea5-bb99-28bffa7b22c1",
   "metadata": {},
   "outputs": [],
   "source": [
    "import numpy as np\n",
    "import yfinance as yf\n",
    "import pandas as pd\n",
    "import pandas_datareader\n",
    "from pandas_datareader import data as wb\n",
    "import matplotlib.pyplot as plt\n",
    "import warnings\n",
    "warnings.filterwarnings('ignore')"
   ]
  },
  {
   "cell_type": "code",
   "execution_count": 18,
   "id": "4b24f2d3-5084-4fa7-b8f9-705905372a4c",
   "metadata": {},
   "outputs": [
    {
     "name": "stderr",
     "output_type": "stream",
     "text": [
      "[*********************100%***********************]  1 of 1 completed\n"
     ]
    }
   ],
   "source": [
    "PG = yf.download('PG', start='1995-01-01')"
   ]
  },
  {
   "cell_type": "code",
   "execution_count": 19,
   "id": "2584d079-6d8f-4203-acf7-77b6dd730915",
   "metadata": {},
   "outputs": [
    {
     "data": {
      "text/html": [
       "<div>\n",
       "<style scoped>\n",
       "    .dataframe tbody tr th:only-of-type {\n",
       "        vertical-align: middle;\n",
       "    }\n",
       "\n",
       "    .dataframe tbody tr th {\n",
       "        vertical-align: top;\n",
       "    }\n",
       "\n",
       "    .dataframe thead tr th {\n",
       "        text-align: left;\n",
       "    }\n",
       "\n",
       "    .dataframe thead tr:last-of-type th {\n",
       "        text-align: right;\n",
       "    }\n",
       "</style>\n",
       "<table border=\"1\" class=\"dataframe\">\n",
       "  <thead>\n",
       "    <tr>\n",
       "      <th>Price</th>\n",
       "      <th>Close</th>\n",
       "      <th>High</th>\n",
       "      <th>Low</th>\n",
       "      <th>Open</th>\n",
       "      <th>Volume</th>\n",
       "    </tr>\n",
       "    <tr>\n",
       "      <th>Ticker</th>\n",
       "      <th>PG</th>\n",
       "      <th>PG</th>\n",
       "      <th>PG</th>\n",
       "      <th>PG</th>\n",
       "      <th>PG</th>\n",
       "    </tr>\n",
       "    <tr>\n",
       "      <th>Date</th>\n",
       "      <th></th>\n",
       "      <th></th>\n",
       "      <th></th>\n",
       "      <th></th>\n",
       "      <th></th>\n",
       "    </tr>\n",
       "  </thead>\n",
       "  <tbody>\n",
       "    <tr>\n",
       "      <th>1995-01-03</th>\n",
       "      <td>7.300326</td>\n",
       "      <td>7.314956</td>\n",
       "      <td>7.227176</td>\n",
       "      <td>7.241806</td>\n",
       "      <td>3318400</td>\n",
       "    </tr>\n",
       "    <tr>\n",
       "      <th>1995-01-04</th>\n",
       "      <td>7.241807</td>\n",
       "      <td>7.329586</td>\n",
       "      <td>7.168657</td>\n",
       "      <td>7.271066</td>\n",
       "      <td>2218800</td>\n",
       "    </tr>\n",
       "    <tr>\n",
       "      <th>1995-01-05</th>\n",
       "      <td>7.139399</td>\n",
       "      <td>7.227178</td>\n",
       "      <td>7.124769</td>\n",
       "      <td>7.197918</td>\n",
       "      <td>2319600</td>\n",
       "    </tr>\n",
       "    <tr>\n",
       "      <th>1995-01-06</th>\n",
       "      <td>7.154026</td>\n",
       "      <td>7.212546</td>\n",
       "      <td>7.095506</td>\n",
       "      <td>7.095506</td>\n",
       "      <td>3438000</td>\n",
       "    </tr>\n",
       "    <tr>\n",
       "      <th>1995-01-09</th>\n",
       "      <td>7.124766</td>\n",
       "      <td>7.212546</td>\n",
       "      <td>7.110136</td>\n",
       "      <td>7.183286</td>\n",
       "      <td>1795200</td>\n",
       "    </tr>\n",
       "  </tbody>\n",
       "</table>\n",
       "</div>"
      ],
      "text/plain": [
       "Price          Close      High       Low      Open   Volume\n",
       "Ticker            PG        PG        PG        PG       PG\n",
       "Date                                                       \n",
       "1995-01-03  7.300326  7.314956  7.227176  7.241806  3318400\n",
       "1995-01-04  7.241807  7.329586  7.168657  7.271066  2218800\n",
       "1995-01-05  7.139399  7.227178  7.124769  7.197918  2319600\n",
       "1995-01-06  7.154026  7.212546  7.095506  7.095506  3438000\n",
       "1995-01-09  7.124766  7.212546  7.110136  7.183286  1795200"
      ]
     },
     "execution_count": 19,
     "metadata": {},
     "output_type": "execute_result"
    }
   ],
   "source": [
    "PG.head()"
   ]
  },
  {
   "cell_type": "code",
   "execution_count": 20,
   "id": "18bacb8a-2a0e-4708-948e-6ae3f8c2bb59",
   "metadata": {},
   "outputs": [
    {
     "data": {
      "text/html": [
       "<div>\n",
       "<style scoped>\n",
       "    .dataframe tbody tr th:only-of-type {\n",
       "        vertical-align: middle;\n",
       "    }\n",
       "\n",
       "    .dataframe tbody tr th {\n",
       "        vertical-align: top;\n",
       "    }\n",
       "\n",
       "    .dataframe thead tr th {\n",
       "        text-align: left;\n",
       "    }\n",
       "\n",
       "    .dataframe thead tr:last-of-type th {\n",
       "        text-align: right;\n",
       "    }\n",
       "</style>\n",
       "<table border=\"1\" class=\"dataframe\">\n",
       "  <thead>\n",
       "    <tr>\n",
       "      <th>Price</th>\n",
       "      <th>Close</th>\n",
       "      <th>High</th>\n",
       "      <th>Low</th>\n",
       "      <th>Open</th>\n",
       "      <th>Volume</th>\n",
       "    </tr>\n",
       "    <tr>\n",
       "      <th>Ticker</th>\n",
       "      <th>PG</th>\n",
       "      <th>PG</th>\n",
       "      <th>PG</th>\n",
       "      <th>PG</th>\n",
       "      <th>PG</th>\n",
       "    </tr>\n",
       "    <tr>\n",
       "      <th>Date</th>\n",
       "      <th></th>\n",
       "      <th></th>\n",
       "      <th></th>\n",
       "      <th></th>\n",
       "      <th></th>\n",
       "    </tr>\n",
       "  </thead>\n",
       "  <tbody>\n",
       "    <tr>\n",
       "      <th>2025-08-18</th>\n",
       "      <td>155.720001</td>\n",
       "      <td>156.919998</td>\n",
       "      <td>154.169998</td>\n",
       "      <td>154.419998</td>\n",
       "      <td>8274500</td>\n",
       "    </tr>\n",
       "    <tr>\n",
       "      <th>2025-08-19</th>\n",
       "      <td>158.399994</td>\n",
       "      <td>158.699997</td>\n",
       "      <td>155.669998</td>\n",
       "      <td>155.729996</td>\n",
       "      <td>7868100</td>\n",
       "    </tr>\n",
       "    <tr>\n",
       "      <th>2025-08-20</th>\n",
       "      <td>159.509995</td>\n",
       "      <td>161.029999</td>\n",
       "      <td>158.410004</td>\n",
       "      <td>158.580002</td>\n",
       "      <td>7840400</td>\n",
       "    </tr>\n",
       "    <tr>\n",
       "      <th>2025-08-21</th>\n",
       "      <td>158.729996</td>\n",
       "      <td>159.059998</td>\n",
       "      <td>157.179993</td>\n",
       "      <td>157.929993</td>\n",
       "      <td>6417500</td>\n",
       "    </tr>\n",
       "    <tr>\n",
       "      <th>2025-08-22</th>\n",
       "      <td>158.669998</td>\n",
       "      <td>160.679993</td>\n",
       "      <td>158.309998</td>\n",
       "      <td>159.380005</td>\n",
       "      <td>5796700</td>\n",
       "    </tr>\n",
       "  </tbody>\n",
       "</table>\n",
       "</div>"
      ],
      "text/plain": [
       "Price            Close        High         Low        Open   Volume\n",
       "Ticker              PG          PG          PG          PG       PG\n",
       "Date                                                               \n",
       "2025-08-18  155.720001  156.919998  154.169998  154.419998  8274500\n",
       "2025-08-19  158.399994  158.699997  155.669998  155.729996  7868100\n",
       "2025-08-20  159.509995  161.029999  158.410004  158.580002  7840400\n",
       "2025-08-21  158.729996  159.059998  157.179993  157.929993  6417500\n",
       "2025-08-22  158.669998  160.679993  158.309998  159.380005  5796700"
      ]
     },
     "execution_count": 20,
     "metadata": {},
     "output_type": "execute_result"
    }
   ],
   "source": [
    "PG.tail()"
   ]
  },
  {
   "cell_type": "code",
   "execution_count": 21,
   "id": "92490a05-3219-49e9-9ded-39ef376687e3",
   "metadata": {},
   "outputs": [],
   "source": [
    "PG.columns = PG.columns.get_level_values(0)"
   ]
  },
  {
   "cell_type": "code",
   "execution_count": 22,
   "id": "a1b5e822-c7a8-478c-b658-9de589973e13",
   "metadata": {},
   "outputs": [
    {
     "name": "stdout",
     "output_type": "stream",
     "text": [
      "Index(['Close', 'High', 'Low', 'Open', 'Volume'], dtype='object', name='Price')\n"
     ]
    }
   ],
   "source": [
    "print(PG.columns)"
   ]
  },
  {
   "cell_type": "code",
   "execution_count": 23,
   "id": "3519baea-6dd8-41eb-a5df-252ce7a99e93",
   "metadata": {
    "scrolled": true
   },
   "outputs": [
    {
     "name": "stdout",
     "output_type": "stream",
     "text": [
      "Date\n",
      "1995-01-03         NaN\n",
      "1995-01-04   -0.008016\n",
      "1995-01-05   -0.014141\n",
      "1995-01-06    0.002049\n",
      "1995-01-09   -0.004090\n",
      "                ...   \n",
      "2025-08-18    0.008811\n",
      "2025-08-19    0.017210\n",
      "2025-08-20    0.007008\n",
      "2025-08-21   -0.004890\n",
      "2025-08-22   -0.000378\n",
      "Name: simple_return, Length: 7712, dtype: float64\n"
     ]
    }
   ],
   "source": [
    "PG['simple_return'] = PG['Close'] / PG['Close'].shift(1) - 1\n",
    "print(PG['simple_return'])\n"
   ]
  },
  {
   "cell_type": "code",
   "execution_count": 24,
   "id": "cde1ebcf-7ac9-41bf-93f3-c37db0e4cb9a",
   "metadata": {},
   "outputs": [
    {
     "data": {
      "image/png": "[encoded data removed]",
      "text/plain": [
       "<Figure size 800x500 with 1 Axes>"
      ]
     },
     "metadata": {},
     "output_type": "display_data"
    }
   ],
   "source": [
    "PG['simple_return'].plot(figsize=(8, 5))\n",
    "plt.show() #it will return the o/p without this line as well"
   ]
  },
  {
   "cell_type": "code",
   "execution_count": 28,
   "id": "0b636880-f207-42b6-80de-0990be01cefa",
   "metadata": {},
   "outputs": [
    {
     "data": {
      "text/plain": [
       "0.0004953406972573233"
      ]
     },
     "execution_count": 28,
     "metadata": {},
     "output_type": "execute_result"
    }
   ],
   "source": [
    "avg_returns_d = (PG['simple_return'].mean()).item()\n",
    "avg_returns_d"
   ]
  },
  {
   "cell_type": "code",
   "execution_count": 27,
   "id": "f0485f97-1518-45ad-84dd-717f1c3641b9",
   "metadata": {},
   "outputs": [
    {
     "data": {
      "text/plain": [
       "0.12383517431433083"
      ]
     },
     "execution_count": 27,
     "metadata": {},
     "output_type": "execute_result"
    }
   ],
   "source": [
    "avg_return_a = (PG['simple_return'].mean() *250).item()\n",
    "avg_return_a"
   ]
  },
  {
   "cell_type": "code",
   "execution_count": 30,
   "id": "d1650bd5-6799-48b7-849c-147162f18b7f",
   "metadata": {},
   "outputs": [
    {
     "name": "stdout",
     "output_type": "stream",
     "text": [
      "12.384%\n"
     ]
    }
   ],
   "source": [
    "print (str(round(avg_return_a *100, 3)) + '%')"
   ]
  },
  {
   "cell_type": "code",
   "execution_count": null,
   "id": "d7b40d3b-26fe-47e8-a768-8aafcf46d094",
   "metadata": {},
   "outputs": [],
   "source": []
  }
 ],
 "metadata": {
  "kernelspec": {
   "display_name": "Python [conda env:base] *",
   "language": "python",
   "name": "conda-base-py"
  },
  "language_info": {
   "codemirror_mode": {
    "name": "ipython",
    "version": 3
   },
   "file_extension": ".py",
   "mimetype": "text/x-python",
   "name": "python",
   "nbconvert_exporter": "python",
   "pygments_lexer": "ipython3",
   "version": "3.13.5"
  }
 },
 "nbformat": 4,
 "nbformat_minor": 5
}
