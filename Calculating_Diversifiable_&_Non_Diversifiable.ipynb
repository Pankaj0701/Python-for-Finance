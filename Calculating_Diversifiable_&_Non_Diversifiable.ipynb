{
 "cells": [
  {
   "cell_type": "code",
   "execution_count": 4,
   "id": "519a08a8-32eb-4fca-8df4-1aa3e8b0fea5",
   "metadata": {},
   "outputs": [],
   "source": [
    "import numpy as np\n",
    "import pandas as pd\n",
    "import yfinance as yf\n",
    "import warnings\n",
    "warnings.filterwarnings('ignore')"
   ]
  },
  {
   "cell_type": "code",
   "execution_count": 13,
   "id": "527961bd-0ab2-4d49-8649-e013ef300d38",
   "metadata": {},
   "outputs": [
    {
     "name": "stderr",
     "output_type": "stream",
     "text": [
      "[*********************100%***********************]  1 of 1 completed\n",
      "[*********************100%***********************]  1 of 1 completed\n"
     ]
    }
   ],
   "source": [
    "tickers =['PG','BEI.DE']\n",
    "sec_data = pd.DataFrame()\n",
    "for t in tickers:\n",
    "    sec_data[t] = yf.download(t, start = '1995-1-1')['Close']"
   ]
  },
  {
   "cell_type": "code",
   "execution_count": 14,
   "id": "d1a7bc94-cdf5-4e3d-93da-e96e392b4efb",
   "metadata": {},
   "outputs": [
    {
     "data": {
      "text/html": [
       "<div>\n",
       "<style scoped>\n",
       "    .dataframe tbody tr th:only-of-type {\n",
       "        vertical-align: middle;\n",
       "    }\n",
       "\n",
       "    .dataframe tbody tr th {\n",
       "        vertical-align: top;\n",
       "    }\n",
       "\n",
       "    .dataframe thead th {\n",
       "        text-align: right;\n",
       "    }\n",
       "</style>\n",
       "<table border=\"1\" class=\"dataframe\">\n",
       "  <thead>\n",
       "    <tr style=\"text-align: right;\">\n",
       "      <th></th>\n",
       "      <th>PG</th>\n",
       "      <th>BEI.DE</th>\n",
       "    </tr>\n",
       "    <tr>\n",
       "      <th>Date</th>\n",
       "      <th></th>\n",
       "      <th></th>\n",
       "    </tr>\n",
       "  </thead>\n",
       "  <tbody>\n",
       "    <tr>\n",
       "      <th>1995-01-03</th>\n",
       "      <td>NaN</td>\n",
       "      <td>NaN</td>\n",
       "    </tr>\n",
       "    <tr>\n",
       "      <th>1995-01-04</th>\n",
       "      <td>-0.008048</td>\n",
       "      <td>NaN</td>\n",
       "    </tr>\n",
       "    <tr>\n",
       "      <th>1995-01-05</th>\n",
       "      <td>-0.014242</td>\n",
       "      <td>NaN</td>\n",
       "    </tr>\n",
       "    <tr>\n",
       "      <th>1995-01-06</th>\n",
       "      <td>0.002047</td>\n",
       "      <td>NaN</td>\n",
       "    </tr>\n",
       "    <tr>\n",
       "      <th>1995-01-09</th>\n",
       "      <td>-0.004098</td>\n",
       "      <td>NaN</td>\n",
       "    </tr>\n",
       "    <tr>\n",
       "      <th>...</th>\n",
       "      <td>...</td>\n",
       "      <td>...</td>\n",
       "    </tr>\n",
       "    <tr>\n",
       "      <th>2025-08-20</th>\n",
       "      <td>0.006983</td>\n",
       "      <td>0.000486</td>\n",
       "    </tr>\n",
       "    <tr>\n",
       "      <th>2025-08-21</th>\n",
       "      <td>-0.004902</td>\n",
       "      <td>-0.021601</td>\n",
       "    </tr>\n",
       "    <tr>\n",
       "      <th>2025-08-22</th>\n",
       "      <td>-0.000378</td>\n",
       "      <td>-0.011882</td>\n",
       "    </tr>\n",
       "    <tr>\n",
       "      <th>2025-08-25</th>\n",
       "      <td>-0.016010</td>\n",
       "      <td>-0.003824</td>\n",
       "    </tr>\n",
       "    <tr>\n",
       "      <th>2025-08-26</th>\n",
       "      <td>-0.002693</td>\n",
       "      <td>-0.005054</td>\n",
       "    </tr>\n",
       "  </tbody>\n",
       "</table>\n",
       "<p>7714 rows × 2 columns</p>\n",
       "</div>"
      ],
      "text/plain": [
       "                  PG    BEI.DE\n",
       "Date                          \n",
       "1995-01-03       NaN       NaN\n",
       "1995-01-04 -0.008048       NaN\n",
       "1995-01-05 -0.014242       NaN\n",
       "1995-01-06  0.002047       NaN\n",
       "1995-01-09 -0.004098       NaN\n",
       "...              ...       ...\n",
       "2025-08-20  0.006983  0.000486\n",
       "2025-08-21 -0.004902 -0.021601\n",
       "2025-08-22 -0.000378 -0.011882\n",
       "2025-08-25 -0.016010 -0.003824\n",
       "2025-08-26 -0.002693 -0.005054\n",
       "\n",
       "[7714 rows x 2 columns]"
      ]
     },
     "execution_count": 14,
     "metadata": {},
     "output_type": "execute_result"
    }
   ],
   "source": [
    "sec_returns = np.log(sec_data / sec_data.shift(1))\n",
    "sec_returns"
   ]
  },
  {
   "cell_type": "code",
   "execution_count": 6,
   "id": "0b883cab-87c6-4ec1-a5b8-8177afea3ac9",
   "metadata": {},
   "outputs": [],
   "source": [
    "weights = np.array([0.5,0.5])"
   ]
  },
  {
   "cell_type": "code",
   "execution_count": 8,
   "id": "978b46f1-6a1e-431e-b28f-5e2bc2375262",
   "metadata": {},
   "outputs": [
    {
     "data": {
      "text/plain": [
       "0.5"
      ]
     },
     "execution_count": 8,
     "metadata": {},
     "output_type": "execute_result"
    }
   ],
   "source": [
    "weights[0].item()"
   ]
  },
  {
   "cell_type": "code",
   "execution_count": 10,
   "id": "17bcecd4-538d-483a-b7e2-f26ee7817ae4",
   "metadata": {},
   "outputs": [
    {
     "data": {
      "text/plain": [
       "0.5"
      ]
     },
     "execution_count": 10,
     "metadata": {},
     "output_type": "execute_result"
    }
   ],
   "source": [
    "weights[1].item()"
   ]
  },
  {
   "cell_type": "code",
   "execution_count": 19,
   "id": "a0054ec6-f648-4dce-a186-36afcd2d2cb7",
   "metadata": {},
   "outputs": [],
   "source": [
    "#PORTFOLIO VARIANCE"
   ]
  },
  {
   "cell_type": "code",
   "execution_count": 20,
   "id": "d5e72fbb-2fff-45f7-9980-257636a4ab6a",
   "metadata": {},
   "outputs": [
    {
     "data": {
      "text/plain": [
       "0.0346273228398931"
      ]
     },
     "execution_count": 20,
     "metadata": {},
     "output_type": "execute_result"
    }
   ],
   "source": [
    "pfolio_var = np.dot(weights.T,np.dot(sec_returns.cov() * 250, weights)).item()\n",
    "pfolio_var"
   ]
  },
  {
   "cell_type": "code",
   "execution_count": 11,
   "id": "81aadd44-d82b-48ba-b237-c15aa76a302b",
   "metadata": {},
   "outputs": [],
   "source": [
    "#DIVERSIFIALBLE RISK"
   ]
  },
  {
   "cell_type": "code",
   "execution_count": 15,
   "id": "f9296e2a-065c-4b1a-abb2-a5766ef08b84",
   "metadata": {},
   "outputs": [
    {
     "data": {
      "text/plain": [
       "PG    0.048462\n",
       "dtype: float64"
      ]
     },
     "execution_count": 15,
     "metadata": {},
     "output_type": "execute_result"
    }
   ],
   "source": [
    "PG_var_a = sec_returns[['PG']].var() * 250\n",
    "PG_var_a"
   ]
  },
  {
   "cell_type": "code",
   "execution_count": 17,
   "id": "c50e23f6-83bf-47bf-b4ce-cb156ae3db00",
   "metadata": {},
   "outputs": [
    {
     "data": {
      "text/plain": [
       "BEI.DE    0.075776\n",
       "dtype: float64"
      ]
     },
     "execution_count": 17,
     "metadata": {},
     "output_type": "execute_result"
    }
   ],
   "source": [
    "BEI_var_a = sec_returns[['BEI.DE']].var() * 250\n",
    "BEI_var_a"
   ]
  },
  {
   "cell_type": "code",
   "execution_count": 21,
   "id": "2b0d03dc-29f9-4e96-be59-9285912842ec",
   "metadata": {},
   "outputs": [
    {
     "data": {
      "text/plain": [
       "BEI.DE   NaN\n",
       "PG       NaN\n",
       "dtype: float64"
      ]
     },
     "execution_count": 21,
     "metadata": {},
     "output_type": "execute_result"
    }
   ],
   "source": [
    "dr = pfolio_var - (weights[0] ** 2 * PG_var_a) - (weights[1] ** 2 * BEI_var_a)\n",
    "dr"
   ]
  },
  {
   "cell_type": "code",
   "execution_count": 22,
   "id": "2c0c6db1-62c1-412f-a8b1-bbd9bbee7129",
   "metadata": {},
   "outputs": [
    {
     "data": {
      "text/plain": [
       "0.04846229499679307"
      ]
     },
     "execution_count": 22,
     "metadata": {},
     "output_type": "execute_result"
    }
   ],
   "source": [
    "float(PG_var_a)"
   ]
  },
  {
   "cell_type": "code",
   "execution_count": 23,
   "id": "781497e6-723d-4f97-a8ce-4f99574b59f3",
   "metadata": {},
   "outputs": [
    {
     "data": {
      "text/plain": [
       "0.04846229499679307"
      ]
     },
     "execution_count": 23,
     "metadata": {},
     "output_type": "execute_result"
    }
   ],
   "source": [
    "PG_var_a = sec_returns['PG'].var() * 250\n",
    "PG_var_a"
   ]
  },
  {
   "cell_type": "code",
   "execution_count": 24,
   "id": "aa0524a7-5d65-4459-a540-68cebf66fd32",
   "metadata": {},
   "outputs": [
    {
     "data": {
      "text/plain": [
       "0.07577649512207214"
      ]
     },
     "execution_count": 24,
     "metadata": {},
     "output_type": "execute_result"
    }
   ],
   "source": [
    "BEI_var_a = sec_returns['BEI.DE'].var() * 250\n",
    "BEI_var_a"
   ]
  },
  {
   "cell_type": "code",
   "execution_count": 39,
   "id": "96c39773-5bf9-4de0-9ddd-182a159fa958",
   "metadata": {},
   "outputs": [
    {
     "data": {
      "text/plain": [
       "0.003567625310176799"
      ]
     },
     "execution_count": 39,
     "metadata": {},
     "output_type": "execute_result"
    }
   ],
   "source": [
    "dr = (pfolio_var - (weights[0] ** 2 * PG_var_a) - (weights[1] ** 2 * BEI_var_a)).item()\n",
    "dr"
   ]
  },
  {
   "cell_type": "code",
   "execution_count": 31,
   "id": "094e183e-7c37-4bd9-be45-0230f9f07faa",
   "metadata": {},
   "outputs": [
    {
     "name": "stdout",
     "output_type": "stream",
     "text": [
      "0.357%\n"
     ]
    }
   ],
   "source": [
    "print(str(round(dr * 100, 3)) + '%')"
   ]
  },
  {
   "cell_type": "code",
   "execution_count": 32,
   "id": "7728acb4-0386-4851-9547-a270af57f075",
   "metadata": {},
   "outputs": [],
   "source": [
    "#NON DIVERSIFIABLE RISK"
   ]
  },
  {
   "cell_type": "code",
   "execution_count": 38,
   "id": "4f1b5c09-0fa8-421a-a93d-449334a2cd5e",
   "metadata": {},
   "outputs": [
    {
     "data": {
      "text/plain": [
       "0.031059697529716303"
      ]
     },
     "execution_count": 38,
     "metadata": {},
     "output_type": "execute_result"
    }
   ],
   "source": [
    "n_dr_1 = (pfolio_var - dr).item()\n",
    "n_dr_1"
   ]
  },
  {
   "cell_type": "code",
   "execution_count": 37,
   "id": "6d68d1d6-d31d-4bfd-b95d-e870763b8525",
   "metadata": {},
   "outputs": [
    {
     "data": {
      "text/plain": [
       "0.031059697529716303"
      ]
     },
     "execution_count": 37,
     "metadata": {},
     "output_type": "execute_result"
    }
   ],
   "source": [
    "n_dr_2 = ((weights[0] ** 2 * PG_var_a) + (weights[1] ** 2 * BEI_var_a)).item()\n",
    "n_dr_2"
   ]
  },
  {
   "cell_type": "code",
   "execution_count": 36,
   "id": "8db4e0b1-2f34-4f8f-baff-94775991049b",
   "metadata": {},
   "outputs": [
    {
     "data": {
      "text/plain": [
       "True"
      ]
     },
     "execution_count": 36,
     "metadata": {},
     "output_type": "execute_result"
    }
   ],
   "source": [
    "(n_dr_1 == n_dr_2).item()"
   ]
  },
  {
   "cell_type": "code",
   "execution_count": null,
   "id": "412e4b30-d85b-4534-b433-2ae20ecbba44",
   "metadata": {},
   "outputs": [],
   "source": []
  }
 ],
 "metadata": {
  "kernelspec": {
   "display_name": "Python [conda env:base] *",
   "language": "python",
   "name": "conda-base-py"
  },
  "language_info": {
   "codemirror_mode": {
    "name": "ipython",
    "version": 3
   },
   "file_extension": ".py",
   "mimetype": "text/x-python",
   "name": "python",
   "nbconvert_exporter": "python",
   "pygments_lexer": "ipython3",
   "version": "3.13.5"
  }
 },
 "nbformat": 4,
 "nbformat_minor": 5
}
