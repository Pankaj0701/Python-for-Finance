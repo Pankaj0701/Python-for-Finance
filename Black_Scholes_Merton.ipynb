{
 "cells": [
  {
   "cell_type": "code",
   "execution_count": 35,
   "id": "b5a13567-9153-4242-8592-6485b1343858",
   "metadata": {},
   "outputs": [],
   "source": [
    "import numpy as np\n",
    "import pandas as pd\n",
    "from scipy.stats import norm\n",
    "import warnings\n",
    "warnings.filterwarnings('ignore')"
   ]
  },
  {
   "cell_type": "code",
   "execution_count": 41,
   "id": "b5e84776-0e8f-4985-bd7f-952c7bdde231",
   "metadata": {},
   "outputs": [],
   "source": [
    "def d1(s,k,r,stdev,T):\n",
    "    return(np.log(s/k) + (r + stdev ** 2 / 2) * T / (stdev * np.sqrt(T)))\n",
    "           \n",
    "def d2(s,k,r,stdev, T):\n",
    "    return(np.log(s/k) + (r - stdev ** 2 / 2) * T / (stdev * np.sqrt(T)))"
   ]
  },
  {
   "cell_type": "code",
   "execution_count": 43,
   "id": "5063dfbb-6750-401e-b0b7-667aa7e4453a",
   "metadata": {},
   "outputs": [
    {
     "data": {
      "text/plain": [
       "0.5"
      ]
     },
     "execution_count": 43,
     "metadata": {},
     "output_type": "execute_result"
    }
   ],
   "source": [
    "norm.cdf(0).item() #cdf = cumulative Distribution Function"
   ]
  },
  {
   "cell_type": "code",
   "execution_count": 45,
   "id": "29ffdc52-1f64-498c-8fd2-0885a5d4f16c",
   "metadata": {},
   "outputs": [
    {
     "data": {
      "text/plain": [
       "0.5987063256829237"
      ]
     },
     "execution_count": 45,
     "metadata": {},
     "output_type": "execute_result"
    }
   ],
   "source": [
    "norm.cdf(0.25).item()"
   ]
  },
  {
   "cell_type": "code",
   "execution_count": 46,
   "id": "8daa2b84-93f0-4deb-b54c-d1068cf2b6ee",
   "metadata": {},
   "outputs": [
    {
     "data": {
      "text/plain": [
       "0.7733726476231317"
      ]
     },
     "execution_count": 46,
     "metadata": {},
     "output_type": "execute_result"
    }
   ],
   "source": [
    "norm.cdf(0.75).item()"
   ]
  },
  {
   "cell_type": "code",
   "execution_count": 48,
   "id": "694da8ad-0473-4f06-ae89-0f403d6309fb",
   "metadata": {},
   "outputs": [
    {
     "data": {
      "text/plain": [
       "1.0"
      ]
     },
     "execution_count": 48,
     "metadata": {},
     "output_type": "execute_result"
    }
   ],
   "source": [
    "norm.cdf(9).item()"
   ]
  },
  {
   "cell_type": "code",
   "execution_count": 63,
   "id": "0f985a43-81d0-44bb-822c-16f6148cfb40",
   "metadata": {},
   "outputs": [],
   "source": [
    "def BSM(s,k,r,stdev, T):\n",
    "    return(s * norm.cdf(d1(s,k,r,stdev, T))) - (k * np.exp(-r * T) * norm.cdf(d2(s,k,r,stdev,T)))"
   ]
  },
  {
   "cell_type": "code",
   "execution_count": 50,
   "id": "55760ca5-4db5-4c3d-bfff-49a54a0b6c60",
   "metadata": {},
   "outputs": [
    {
     "name": "stderr",
     "output_type": "stream",
     "text": [
      "[*********************100%***********************]  1 of 1 completed\n"
     ]
    }
   ],
   "source": [
    "ticker = 'PG'\n",
    "data = pd.DataFrame()\n",
    "data[ticker] = yf.download(ticker, start = '1995-1-1')['Close']"
   ]
  },
  {
   "cell_type": "code",
   "execution_count": 57,
   "id": "09be4fc2-38ce-49e0-978b-1a006436d039",
   "metadata": {},
   "outputs": [
    {
     "data": {
      "text/plain": [
       "PG    157.039993\n",
       "Name: 2025-08-29 00:00:00, dtype: float64"
      ]
     },
     "execution_count": 57,
     "metadata": {},
     "output_type": "execute_result"
    }
   ],
   "source": [
    "s = data.iloc[-1]\n",
    "s"
   ]
  },
  {
   "cell_type": "code",
   "execution_count": 52,
   "id": "ff281e09-d660-499a-baba-d2aae2e9bdc1",
   "metadata": {},
   "outputs": [],
   "source": [
    "log_returns = np.log(1 + data.pct_change())"
   ]
  },
  {
   "cell_type": "code",
   "execution_count": 53,
   "id": "1e65d4c5-acea-4a6c-a1ac-797279d63885",
   "metadata": {},
   "outputs": [
    {
     "data": {
      "text/plain": [
       "PG    0.220112\n",
       "dtype: float64"
      ]
     },
     "execution_count": 53,
     "metadata": {},
     "output_type": "execute_result"
    }
   ],
   "source": [
    "stdev = log_returns.std() * 250 ** 0.5\n",
    "stdev"
   ]
  },
  {
   "cell_type": "code",
   "execution_count": 54,
   "id": "a46936a2-b5ab-4707-8f24-794c344bc12b",
   "metadata": {},
   "outputs": [],
   "source": [
    "r = 0.025\n",
    "k = 110.0\n",
    "T = 1"
   ]
  },
  {
   "cell_type": "code",
   "execution_count": 58,
   "id": "f09953b7-750f-4e2c-8fa4-4973f6b557cd",
   "metadata": {},
   "outputs": [
    {
     "data": {
      "text/plain": [
       "PG    0.579655\n",
       "dtype: float64"
      ]
     },
     "execution_count": 58,
     "metadata": {},
     "output_type": "execute_result"
    }
   ],
   "source": [
    "d1(s,k,r,stdev,T)"
   ]
  },
  {
   "cell_type": "code",
   "execution_count": 59,
   "id": "d482ee03-ee9e-475f-ab70-9b9c96510618",
   "metadata": {},
   "outputs": [
    {
     "data": {
      "text/plain": [
       "PG    0.359543\n",
       "dtype: float64"
      ]
     },
     "execution_count": 59,
     "metadata": {},
     "output_type": "execute_result"
    }
   ],
   "source": [
    "d2(s,k,r,stdev,T)"
   ]
  },
  {
   "cell_type": "code",
   "execution_count": 64,
   "id": "844477f6-75f7-471d-9f57-7e5a0c9f105c",
   "metadata": {},
   "outputs": [
    {
     "data": {
      "text/plain": [
       "PG    44.194854\n",
       "Name: 2025-08-29 00:00:00, dtype: float64"
      ]
     },
     "execution_count": 64,
     "metadata": {},
     "output_type": "execute_result"
    }
   ],
   "source": [
    "BSM(s,k,r,stdev,T)"
   ]
  },
  {
   "cell_type": "code",
   "execution_count": null,
   "id": "77d44de0-3bad-433d-a9bd-06340ec81615",
   "metadata": {},
   "outputs": [],
   "source": []
  }
 ],
 "metadata": {
  "kernelspec": {
   "display_name": "Python [conda env:base] *",
   "language": "python",
   "name": "conda-base-py"
  },
  "language_info": {
   "codemirror_mode": {
    "name": "ipython",
    "version": 3
   },
   "file_extension": ".py",
   "mimetype": "text/x-python",
   "name": "python",
   "nbconvert_exporter": "python",
   "pygments_lexer": "ipython3",
   "version": "3.13.5"
  }
 },
 "nbformat": 4,
 "nbformat_minor": 5
}
